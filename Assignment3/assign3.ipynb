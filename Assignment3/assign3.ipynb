{
 "cells": [
  {
   "cell_type": "markdown",
   "id": "25c05ac9",
   "metadata": {},
   "source": [
    "# Assignment 3 - Option 2\n",
    "## Ruan Buhr - 26440873"
   ]
  },
  {
   "cell_type": "code",
   "execution_count": 56,
   "id": "f6eaf343",
   "metadata": {},
   "outputs": [],
   "source": [
    "import numpy as np\n",
    "import tensorflow as tf\n",
    "import pandas as pd\n",
    "\n",
    "from tensorflow import keras\n",
    "from tensorflow.keras import layers, regularizers\n",
    "from tensorflow.keras.datasets import mnist, cifar10\n",
    "\n",
    "from sklearn.datasets import load_iris, load_wine, load_digits, fetch_california_housing, load_diabetes, make_regression\n",
    "from sklearn.model_selection import train_test_split\n",
    "from sklearn.preprocessing import StandardScaler\n",
    "\n",
    "from sklearn.metrics import accuracy_score, f1_score, mean_squared_error, mean_absolute_error\n",
    "\n",
    "import math\n",
    "import random\n",
    "from collections import Counter"
   ]
  },
  {
   "cell_type": "markdown",
   "id": "89117364",
   "metadata": {},
   "source": [
    "## Utilities"
   ]
  },
  {
   "cell_type": "code",
   "execution_count": 38,
   "id": "ea079440",
   "metadata": {},
   "outputs": [],
   "source": [
    "def set_seed(seed=42):\n",
    "    np.random.seed(seed)\n",
    "    tf.random.set_seed(seed)\n",
    "    random.seed(seed)"
   ]
  },
  {
   "cell_type": "markdown",
   "id": "669a6ec0",
   "metadata": {},
   "source": [
    "## Datasets"
   ]
  },
  {
   "cell_type": "markdown",
   "id": "e10eb070",
   "metadata": {},
   "source": [
    "### Classification: Iris"
   ]
  },
  {
   "cell_type": "code",
   "execution_count": 39,
   "id": "b31418b4",
   "metadata": {},
   "outputs": [],
   "source": [
    "iris = load_iris()\n",
    "df_iris = pd.DataFrame(iris.data, columns=iris.feature_names)\n",
    "df_iris['target'] = iris.target"
   ]
  },
  {
   "cell_type": "code",
   "execution_count": 49,
   "id": "a75becf3",
   "metadata": {},
   "outputs": [
    {
     "name": "stdout",
     "output_type": "stream",
     "text": [
      "   sepal length (cm)  sepal width (cm)  ...  petal width (cm)  target\n",
      "0                5.1               3.5  ...               0.2       0\n",
      "1                4.9               3.0  ...               0.2       0\n",
      "2                4.7               3.2  ...               0.2       0\n",
      "3                4.6               3.1  ...               0.2       0\n",
      "4                5.0               3.6  ...               0.2       0\n",
      "\n",
      "[5 rows x 5 columns]\n",
      "\n",
      "\n",
      "(150, 5)\n",
      "\n",
      "\n",
      "       sepal length (cm)  sepal width (cm)  ...  petal width (cm)      target\n",
      "count         150.000000        150.000000  ...        150.000000  150.000000\n",
      "mean            5.843333          3.057333  ...          1.199333    1.000000\n",
      "std             0.828066          0.435866  ...          0.762238    0.819232\n",
      "min             4.300000          2.000000  ...          0.100000    0.000000\n",
      "25%             5.100000          2.800000  ...          0.300000    0.000000\n",
      "50%             5.800000          3.000000  ...          1.300000    1.000000\n",
      "75%             6.400000          3.300000  ...          1.800000    2.000000\n",
      "max             7.900000          4.400000  ...          2.500000    2.000000\n",
      "\n",
      "[8 rows x 5 columns]\n",
      "\n",
      "\n",
      "sepal length (cm)    0\n",
      "sepal width (cm)     0\n",
      "petal length (cm)    0\n",
      "petal width (cm)     0\n",
      "target               0\n",
      "dtype: int64\n"
     ]
    }
   ],
   "source": [
    "print(df_iris.head(), df_iris.shape, df_iris.describe(), df_iris.isna().sum(), sep=\"\\n\\n\\n\")"
   ]
  },
  {
   "cell_type": "markdown",
   "id": "63005255",
   "metadata": {},
   "source": [
    "### Classification: MNIST"
   ]
  },
  {
   "cell_type": "code",
   "execution_count": 45,
   "id": "51790818",
   "metadata": {},
   "outputs": [
    {
     "name": "stdout",
     "output_type": "stream",
     "text": [
      "Downloading data from https://storage.googleapis.com/tensorflow/tf-keras-datasets/mnist.npz\n",
      "\u001b[1m11490434/11490434\u001b[0m \u001b[32m━━━━━━━━━━━━━━━━━━━━\u001b[0m\u001b[37m\u001b[0m \u001b[1m3s\u001b[0m 0us/step\n"
     ]
    }
   ],
   "source": [
    "(Xtr, ytr), (Xte, yte) = mnist.load_data()\n",
    "X = np.vstack([Xtr.reshape(len(Xtr), -1), Xte.reshape(len(Xte), -1)])\n",
    "y = np.concatenate([ytr, yte])"
   ]
  },
  {
   "cell_type": "code",
   "execution_count": 46,
   "id": "411ca655",
   "metadata": {},
   "outputs": [],
   "source": [
    "df_mnist = pd.DataFrame(X, columns=[f\"px{i}\" for i in range(X.shape[1])])\n",
    "df_mnist[\"target\"] = y"
   ]
  },
  {
   "cell_type": "code",
   "execution_count": 50,
   "id": "04f5626d",
   "metadata": {},
   "outputs": [
    {
     "name": "stdout",
     "output_type": "stream",
     "text": [
      "   px0  px1  px2  px3  px4  px5  ...  px779  px780  px781  px782  px783  target\n",
      "0    0    0    0    0    0    0  ...      0      0      0      0      0       5\n",
      "1    0    0    0    0    0    0  ...      0      0      0      0      0       0\n",
      "2    0    0    0    0    0    0  ...      0      0      0      0      0       4\n",
      "3    0    0    0    0    0    0  ...      0      0      0      0      0       1\n",
      "4    0    0    0    0    0    0  ...      0      0      0      0      0       9\n",
      "\n",
      "[5 rows x 785 columns]\n",
      "\n",
      "\n",
      "(70000, 785)\n",
      "\n",
      "\n",
      "           px0      px1      px2  ...    px782    px783        target\n",
      "count  70000.0  70000.0  70000.0  ...  70000.0  70000.0  70000.000000\n",
      "mean       0.0      0.0      0.0  ...      0.0      0.0      4.452429\n",
      "std        0.0      0.0      0.0  ...      0.0      0.0      2.890195\n",
      "min        0.0      0.0      0.0  ...      0.0      0.0      0.000000\n",
      "25%        0.0      0.0      0.0  ...      0.0      0.0      2.000000\n",
      "50%        0.0      0.0      0.0  ...      0.0      0.0      4.000000\n",
      "75%        0.0      0.0      0.0  ...      0.0      0.0      7.000000\n",
      "max        0.0      0.0      0.0  ...      0.0      0.0      9.000000\n",
      "\n",
      "[8 rows x 785 columns]\n",
      "\n",
      "\n",
      "px0       0\n",
      "px1       0\n",
      "px2       0\n",
      "px3       0\n",
      "px4       0\n",
      "         ..\n",
      "px780     0\n",
      "px781     0\n",
      "px782     0\n",
      "px783     0\n",
      "target    0\n",
      "Length: 785, dtype: int64\n"
     ]
    }
   ],
   "source": [
    "print(df_mnist.head(), df_mnist.shape, df_mnist.describe(), df_mnist.isna().sum(), sep=\"\\n\\n\\n\")"
   ]
  },
  {
   "cell_type": "markdown",
   "id": "2d196477",
   "metadata": {},
   "source": [
    "### Classification: CIFAR-10"
   ]
  },
  {
   "cell_type": "code",
   "execution_count": 52,
   "id": "9ab04454",
   "metadata": {},
   "outputs": [
    {
     "name": "stdout",
     "output_type": "stream",
     "text": [
      "Downloading data from https://www.cs.toronto.edu/~kriz/cifar-10-python.tar.gz\n",
      "\u001b[1m170498071/170498071\u001b[0m \u001b[32m━━━━━━━━━━━━━━━━━━━━\u001b[0m\u001b[37m\u001b[0m \u001b[1m29s\u001b[0m 0us/step\n"
     ]
    }
   ],
   "source": [
    "(Xtr, ytr), (Xte, yte) = cifar10.load_data()\n",
    "ytr, yte = ytr.ravel(), yte.ravel()\n",
    "X = np.vstack([Xtr.reshape(len(Xtr), -1), Xte.reshape(len(Xte), -1)])\n",
    "y = np.concatenate([ytr, yte])\n",
    "df_cifar = pd.DataFrame(X, columns=[f\"px{i}\" for i in range(X.shape[1])])\n",
    "df_cifar[\"target\"] = y"
   ]
  },
  {
   "cell_type": "code",
   "execution_count": 53,
   "id": "775292db",
   "metadata": {},
   "outputs": [
    {
     "name": "stdout",
     "output_type": "stream",
     "text": [
      "   px0  px1  px2  px3  px4  px5  ...  px3067  px3068  px3069  px3070  px3071  target\n",
      "0   59   62   63   43   46   45  ...     118      84     123      92      72       6\n",
      "1  154  177  187  126  137  136  ...     134     142     143     133     144       9\n",
      "2  255  255  255  253  253  253  ...      85      83      80      86      84       9\n",
      "3   28   25   10   37   34   19  ...      56      37      72      65      46       4\n",
      "4  170  180  198  168  178  196  ...      75      78      73      77      80       1\n",
      "\n",
      "[5 rows x 3073 columns]\n",
      "\n",
      "\n",
      "(60000, 3073)\n",
      "\n",
      "\n",
      "                px0           px1  ...        px3071        target\n",
      "count  60000.000000  60000.000000  ...  60000.000000  60000.000000\n",
      "mean     130.681517    136.054483  ...    114.539400      4.500000\n",
      "std       73.399021     72.871161  ...     66.008946      2.872305\n",
      "min        0.000000      0.000000  ...      0.000000      0.000000\n",
      "25%       71.000000     77.000000  ...     63.000000      2.000000\n",
      "50%      128.000000    135.000000  ...    106.000000      4.500000\n",
      "75%      189.000000    195.000000  ...    159.000000      7.000000\n",
      "max      255.000000    255.000000  ...    255.000000      9.000000\n",
      "\n",
      "[8 rows x 3073 columns]\n",
      "\n",
      "\n",
      "px0       0\n",
      "px1       0\n",
      "px2       0\n",
      "px3       0\n",
      "px4       0\n",
      "         ..\n",
      "px3068    0\n",
      "px3069    0\n",
      "px3070    0\n",
      "px3071    0\n",
      "target    0\n",
      "Length: 3073, dtype: int64\n"
     ]
    }
   ],
   "source": [
    "print(df_cifar.head(), df_cifar.shape, df_cifar.describe(), df_cifar.isna().sum(), sep=\"\\n\\n\\n\")"
   ]
  },
  {
   "cell_type": "markdown",
   "id": "23ff1a49",
   "metadata": {},
   "source": [
    "### Regression: California Housing"
   ]
  },
  {
   "cell_type": "code",
   "execution_count": null,
   "id": "e769e260",
   "metadata": {},
   "outputs": [],
   "source": [
    "X, y = make_regression(n_samples=10000, n_features=10, noise=1.0, random_state=42)\n",
    "\n",
    "df_syn = pd.DataFrame(X, columns=[f\"f{i}\" for i in range(X.shape[1])])\n",
    "df_syn[\"target\"] = y"
   ]
  },
  {
   "cell_type": "code",
   "execution_count": 60,
   "id": "d93e0f87",
   "metadata": {},
   "outputs": [
    {
     "name": "stdout",
     "output_type": "stream",
     "text": [
      "         f0        f1        f2  ...        f8        f9      target\n",
      "0 -2.946904 -0.429991  0.888988  ...  0.220842  0.539951   71.003189\n",
      "1  1.154356 -0.946784  0.481741  ...  0.412254 -0.095042  -48.831110\n",
      "2 -0.834083 -0.527566  0.065442  ...  0.215530  1.059958 -100.904069\n",
      "3 -0.732383  0.388215  1.512235  ... -1.679208 -2.741489 -164.577952\n",
      "4 -0.998797 -0.685263  0.650593  ...  0.120906  0.415295  -23.248771\n",
      "\n",
      "[5 rows x 11 columns]\n",
      "\n",
      "\n",
      "(5000, 11)\n",
      "\n",
      "\n",
      "                f0           f1  ...           f9       target\n",
      "count  5000.000000  5000.000000  ...  5000.000000  5000.000000\n",
      "mean      0.004768    -0.014755  ...    -0.014441    -3.253507\n",
      "std       0.993223     0.995310  ...     1.000081   165.005013\n",
      "min      -3.307900    -3.631539  ...    -3.635200  -563.550670\n",
      "25%      -0.652975    -0.691543  ...    -0.700048  -112.440317\n",
      "50%       0.009642     0.001213  ...    -0.019127    -4.092725\n",
      "75%       0.674679     0.651014  ...     0.672435   109.175343\n",
      "max       3.377768     4.479084  ...     3.691625   603.920042\n",
      "\n",
      "[8 rows x 11 columns]\n",
      "\n",
      "\n",
      "f0        0\n",
      "f1        0\n",
      "f2        0\n",
      "f3        0\n",
      "f4        0\n",
      "f5        0\n",
      "f6        0\n",
      "f7        0\n",
      "f8        0\n",
      "f9        0\n",
      "target    0\n",
      "dtype: int64\n"
     ]
    }
   ],
   "source": [
    "print(df_syn.head(), df_syn.shape, df_syn.describe(), df_syn.isna().sum(), sep=\"\\n\\n\\n\")"
   ]
  },
  {
   "cell_type": "code",
   "execution_count": 54,
   "id": "8d8a0e02",
   "metadata": {},
   "outputs": [],
   "source": [
    "housing = fetch_california_housing()\n",
    "df_housing = pd.DataFrame(housing.data, columns=housing.feature_names)\n",
    "df_housing[\"target\"] = housing.target"
   ]
  },
  {
   "cell_type": "code",
   "execution_count": 55,
   "id": "c05a83c5",
   "metadata": {},
   "outputs": [
    {
     "name": "stdout",
     "output_type": "stream",
     "text": [
      "   MedInc  HouseAge  AveRooms  AveBedrms  ...  AveOccup  Latitude  Longitude  target\n",
      "0  8.3252      41.0  6.984127   1.023810  ...  2.555556     37.88    -122.23   4.526\n",
      "1  8.3014      21.0  6.238137   0.971880  ...  2.109842     37.86    -122.22   3.585\n",
      "2  7.2574      52.0  8.288136   1.073446  ...  2.802260     37.85    -122.24   3.521\n",
      "3  5.6431      52.0  5.817352   1.073059  ...  2.547945     37.85    -122.25   3.413\n",
      "4  3.8462      52.0  6.281853   1.081081  ...  2.181467     37.85    -122.25   3.422\n",
      "\n",
      "[5 rows x 9 columns]\n",
      "\n",
      "\n",
      "(20640, 9)\n",
      "\n",
      "\n",
      "             MedInc      HouseAge  ...     Longitude        target\n",
      "count  20640.000000  20640.000000  ...  20640.000000  20640.000000\n",
      "mean       3.870671     28.639486  ...   -119.569704      2.068558\n",
      "std        1.899822     12.585558  ...      2.003532      1.153956\n",
      "min        0.499900      1.000000  ...   -124.350000      0.149990\n",
      "25%        2.563400     18.000000  ...   -121.800000      1.196000\n",
      "50%        3.534800     29.000000  ...   -118.490000      1.797000\n",
      "75%        4.743250     37.000000  ...   -118.010000      2.647250\n",
      "max       15.000100     52.000000  ...   -114.310000      5.000010\n",
      "\n",
      "[8 rows x 9 columns]\n",
      "\n",
      "\n",
      "MedInc        0\n",
      "HouseAge      0\n",
      "AveRooms      0\n",
      "AveBedrms     0\n",
      "Population    0\n",
      "AveOccup      0\n",
      "Latitude      0\n",
      "Longitude     0\n",
      "target        0\n",
      "dtype: int64\n"
     ]
    }
   ],
   "source": [
    "print(df_housing.head(), df_housing.shape, df_housing.describe(), df_housing.isna().sum(), sep=\"\\n\\n\\n\")"
   ]
  },
  {
   "cell_type": "markdown",
   "id": "8a84c59e",
   "metadata": {},
   "source": [
    "### Regression: Diabetes"
   ]
  },
  {
   "cell_type": "code",
   "execution_count": 57,
   "id": "c53b667b",
   "metadata": {},
   "outputs": [],
   "source": [
    "diab = load_diabetes()\n",
    "df_diab = pd.DataFrame(diab.data, columns=diab.feature_names)\n",
    "df_diab[\"target\"] = diab.target"
   ]
  },
  {
   "cell_type": "code",
   "execution_count": 58,
   "id": "fab6f785",
   "metadata": {},
   "outputs": [
    {
     "name": "stdout",
     "output_type": "stream",
     "text": [
      "        age       sex       bmi        bp  ...        s4        s5        s6  target\n",
      "0  0.038076  0.050680  0.061696  0.021872  ... -0.002592  0.019907 -0.017646   151.0\n",
      "1 -0.001882 -0.044642 -0.051474 -0.026328  ... -0.039493 -0.068332 -0.092204    75.0\n",
      "2  0.085299  0.050680  0.044451 -0.005670  ... -0.002592  0.002861 -0.025930   141.0\n",
      "3 -0.089063 -0.044642 -0.011595 -0.036656  ...  0.034309  0.022688 -0.009362   206.0\n",
      "4  0.005383 -0.044642 -0.036385  0.021872  ... -0.002592 -0.031988 -0.046641   135.0\n",
      "\n",
      "[5 rows x 11 columns]\n",
      "\n",
      "\n",
      "(442, 11)\n",
      "\n",
      "\n",
      "                age           sex  ...            s6      target\n",
      "count  4.420000e+02  4.420000e+02  ...  4.420000e+02  442.000000\n",
      "mean  -2.511817e-19  1.230790e-17  ...  1.130318e-17  152.133484\n",
      "std    4.761905e-02  4.761905e-02  ...  4.761905e-02   77.093005\n",
      "min   -1.072256e-01 -4.464164e-02  ... -1.377672e-01   25.000000\n",
      "25%   -3.729927e-02 -4.464164e-02  ... -3.317903e-02   87.000000\n",
      "50%    5.383060e-03 -4.464164e-02  ... -1.077698e-03  140.500000\n",
      "75%    3.807591e-02  5.068012e-02  ...  2.791705e-02  211.500000\n",
      "max    1.107267e-01  5.068012e-02  ...  1.356118e-01  346.000000\n",
      "\n",
      "[8 rows x 11 columns]\n",
      "\n",
      "\n",
      "age       0\n",
      "sex       0\n",
      "bmi       0\n",
      "bp        0\n",
      "s1        0\n",
      "s2        0\n",
      "s3        0\n",
      "s4        0\n",
      "s5        0\n",
      "s6        0\n",
      "target    0\n",
      "dtype: int64\n"
     ]
    }
   ],
   "source": [
    "print(df_diab.head(), df_diab.shape, df_diab.describe(), df_diab.isna().sum(), sep=\"\\n\\n\\n\")"
   ]
  }
 ],
 "metadata": {
  "kernelspec": {
   "display_name": "env",
   "language": "python",
   "name": "python3"
  },
  "language_info": {
   "codemirror_mode": {
    "name": "ipython",
    "version": 3
   },
   "file_extension": ".py",
   "mimetype": "text/x-python",
   "name": "python",
   "nbconvert_exporter": "python",
   "pygments_lexer": "ipython3",
   "version": "3.12.3"
  }
 },
 "nbformat": 4,
 "nbformat_minor": 5
}
