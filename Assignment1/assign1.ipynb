{
 "cells": [
  {
   "cell_type": "code",
   "execution_count": 1,
   "id": "65075136",
   "metadata": {},
   "outputs": [],
   "source": [
    "import numpy as np\n",
    "import pandas as pd\n",
    "import matplotlib.pyplot as plt\n",
    "import seaborn as sns\n",
    "\n",
    "%matplotlib inline"
   ]
  },
  {
   "cell_type": "markdown",
   "id": "ee701264",
   "metadata": {},
   "source": [
    "# Load the Dataset"
   ]
  },
  {
   "cell_type": "code",
   "execution_count": 2,
   "id": "3e1defb2",
   "metadata": {},
   "outputs": [],
   "source": [
    "df = pd.read_csv('data/badDataSet.csv', sep='\\t', header=None, na_values='?')"
   ]
  },
  {
   "cell_type": "code",
   "execution_count": 3,
   "id": "ae25f5a4",
   "metadata": {},
   "outputs": [],
   "source": [
    "df.columns = [f'A{i+1}' for i in range(df.shape[1] - 1)] + ['T']"
   ]
  },
  {
   "cell_type": "markdown",
   "id": "175d2d64",
   "metadata": {},
   "source": [
    "# Task 1\n",
    "## Number of Instances"
   ]
  },
  {
   "cell_type": "code",
   "execution_count": 4,
   "id": "e38bad50",
   "metadata": {},
   "outputs": [
    {
     "name": "stdout",
     "output_type": "stream",
     "text": [
      "(581012, 63)\n"
     ]
    }
   ],
   "source": [
    "print(df.shape)"
   ]
  },
  {
   "cell_type": "markdown",
   "id": "083cff5d",
   "metadata": {},
   "source": [
    "## Number of Descriptive Features"
   ]
  },
  {
   "cell_type": "code",
   "execution_count": 5,
   "id": "d0cb5661",
   "metadata": {},
   "outputs": [
    {
     "name": "stdout",
     "output_type": "stream",
     "text": [
      "62\n"
     ]
    }
   ],
   "source": [
    "print(df.shape[1] - 1)"
   ]
  },
  {
   "cell_type": "markdown",
   "id": "6351dd72",
   "metadata": {},
   "source": [
    "## Data Quality Reports for Descriptive Features"
   ]
  }
 ],
 "metadata": {
  "kernelspec": {
   "display_name": "env",
   "language": "python",
   "name": "python3"
  },
  "language_info": {
   "codemirror_mode": {
    "name": "ipython",
    "version": 3
   },
   "file_extension": ".py",
   "mimetype": "text/x-python",
   "name": "python",
   "nbconvert_exporter": "python",
   "pygments_lexer": "ipython3",
   "version": "3.12.3"
  }
 },
 "nbformat": 4,
 "nbformat_minor": 5
}
