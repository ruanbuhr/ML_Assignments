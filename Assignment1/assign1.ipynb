{
 "cells": [
  {
   "cell_type": "code",
   "execution_count": 1,
   "id": "65075136",
   "metadata": {},
   "outputs": [],
   "source": [
    "import numpy as np\n",
    "import pandas as pd\n",
    "import matplotlib.pyplot as plt\n",
    "import seaborn as sns\n",
    "\n",
    "%matplotlib inline\n",
    "pd.set_option('display.max_rows', None)"
   ]
  },
  {
   "cell_type": "markdown",
   "id": "ee701264",
   "metadata": {},
   "source": [
    "# Load the Dataset"
   ]
  },
  {
   "cell_type": "code",
   "execution_count": 2,
   "id": "3e1defb2",
   "metadata": {},
   "outputs": [],
   "source": [
    "df = pd.read_csv('data/badDataSet.csv', sep='\\t', header=None, na_values='?')"
   ]
  },
  {
   "cell_type": "code",
   "execution_count": 3,
   "id": "ae25f5a4",
   "metadata": {},
   "outputs": [],
   "source": [
    "df.columns = [f'A{i+1}' for i in range(df.shape[1] - 1)] + ['T']"
   ]
  },
  {
   "cell_type": "markdown",
   "id": "175d2d64",
   "metadata": {},
   "source": [
    "# Task 1\n",
    "## Number of Instances"
   ]
  },
  {
   "cell_type": "code",
   "execution_count": 4,
   "id": "e38bad50",
   "metadata": {},
   "outputs": [
    {
     "name": "stdout",
     "output_type": "stream",
     "text": [
      "(581012, 63)\n"
     ]
    }
   ],
   "source": [
    "print(df.shape)"
   ]
  },
  {
   "cell_type": "markdown",
   "id": "083cff5d",
   "metadata": {},
   "source": [
    "## Number of Descriptive Features"
   ]
  },
  {
   "cell_type": "code",
   "execution_count": 5,
   "id": "d0cb5661",
   "metadata": {},
   "outputs": [
    {
     "name": "stdout",
     "output_type": "stream",
     "text": [
      "62\n"
     ]
    }
   ],
   "source": [
    "print(df.shape[1] - 1)"
   ]
  },
  {
   "cell_type": "markdown",
   "id": "6351dd72",
   "metadata": {},
   "source": [
    "## Data Quality Reports for Descriptive Features"
   ]
  },
  {
   "cell_type": "code",
   "execution_count": 6,
   "id": "974cc92b",
   "metadata": {},
   "outputs": [
    {
     "name": "stdout",
     "output_type": "stream",
     "text": [
      "A1       1978\n",
      "A2        361\n",
      "A3     576099\n",
      "A4         67\n",
      "A5        569\n",
      "A6     581012\n",
      "A7     577988\n",
      "A8       5811\n",
      "A9        207\n",
      "A10       186\n",
      "A11       255\n",
      "A12      5826\n",
      "A13         2\n",
      "A14         2\n",
      "A15         2\n",
      "A16         1\n",
      "A17         1\n",
      "A18         3\n",
      "A19         2\n",
      "A20         2\n",
      "A21         2\n",
      "A22         2\n",
      "A23         2\n",
      "A24         2\n",
      "A25         2\n",
      "A26         2\n",
      "A27         2\n",
      "A28         2\n",
      "A29         2\n",
      "A30         2\n",
      "A31         2\n",
      "A32         2\n",
      "A33         2\n",
      "A34         2\n",
      "A35         2\n",
      "A36         2\n",
      "A37         2\n",
      "A38         2\n",
      "A39         2\n",
      "A40         2\n",
      "A41         2\n",
      "A42         2\n",
      "A43         2\n",
      "A44         2\n",
      "A45         2\n",
      "A46         2\n",
      "A47         2\n",
      "A48         2\n",
      "A49         2\n",
      "A50         2\n",
      "A51         2\n",
      "A52         2\n",
      "A53         2\n",
      "A54         2\n",
      "A55         2\n",
      "A56         2\n",
      "A57         2\n",
      "A58         2\n",
      "A59         2\n",
      "A60         2\n",
      "A61    581012\n",
      "A62         1\n",
      "T           7\n",
      "dtype: int64\n"
     ]
    }
   ],
   "source": [
    "print(df.nunique())"
   ]
  }
 ],
 "metadata": {
  "kernelspec": {
   "display_name": "env",
   "language": "python",
   "name": "python3"
  },
  "language_info": {
   "codemirror_mode": {
    "name": "ipython",
    "version": 3
   },
   "file_extension": ".py",
   "mimetype": "text/x-python",
   "name": "python",
   "nbconvert_exporter": "python",
   "pygments_lexer": "ipython3",
   "version": "3.12.3"
  }
 },
 "nbformat": 4,
 "nbformat_minor": 5
}
