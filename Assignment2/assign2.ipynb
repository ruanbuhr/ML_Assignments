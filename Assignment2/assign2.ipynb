{
 "cells": [
  {
   "cell_type": "code",
   "execution_count": 1,
   "id": "fecaed6e",
   "metadata": {},
   "outputs": [],
   "source": [
    "import numpy as np\n",
    "import pandas as pd\n",
    "import matplotlib.pyplot as plt\n",
    "import seaborn as sns\n",
    "\n",
    "%matplotlib inline\n",
    "\n",
    "pd.set_option('display.max_rows', None)\n",
    "pd.set_option('display.max_columns', None)\n",
    "pd.set_option('display.width', None)\n",
    "pd.options.display.float_format = '{:.4f}'.format"
   ]
  },
  {
   "cell_type": "markdown",
   "id": "fb1e0ad8",
   "metadata": {},
   "source": [
    "# Load Dataset"
   ]
  },
  {
   "cell_type": "code",
   "execution_count": 2,
   "id": "7239d0e3",
   "metadata": {},
   "outputs": [],
   "source": [
    "df = pd.read_csv('data/forestCover.csv', index_col='Observation_ID', na_values='?')"
   ]
  },
  {
   "cell_type": "markdown",
   "id": "d1c50dfb",
   "metadata": {},
   "source": [
    "# Preprocessing"
   ]
  },
  {
   "cell_type": "markdown",
   "id": "aa6b776d",
   "metadata": {},
   "source": [
    "## Preprocessing Applied to All Model Datasets"
   ]
  },
  {
   "cell_type": "code",
   "execution_count": 3,
   "id": "2596d87f",
   "metadata": {},
   "outputs": [],
   "source": [
    "from collections import Counter\n",
    "from sklearn.model_selection import train_test_split\n",
    "\n",
    "# Drop observations with missing values as they only make up 0.05% of observations\n",
    "df.dropna(inplace=True)\n",
    "\n",
    "# Change Soil_Type1 from categorical to numeric so SMOTETomek can be applied\n",
    "df['Soil_Type1'] = df['Soil_Type1'].map({ 'positive': 0, 'negative': 1 })\n",
    "\n",
    "X = df.drop('Cover_Type', axis = 1)\n",
    "y = df['Cover_Type']\n",
    "\n",
    "X_train, X_test, y_train, y_test = train_test_split(X, y, test_size=0.2, random_state=42, stratify=y)"
   ]
  },
  {
   "cell_type": "markdown",
   "id": "dce8ab80",
   "metadata": {},
   "source": [
    "### Soil_Type Sanity Check"
   ]
  },
  {
   "cell_type": "code",
   "execution_count": 4,
   "id": "93ed43ad",
   "metadata": {},
   "outputs": [
    {
     "name": "stdout",
     "output_type": "stream",
     "text": [
      "0\n"
     ]
    }
   ],
   "source": [
    "soil_columns = [f'Soil_Type{i}' for i in range(1, 41)]\n",
    "soil_df = df[soil_columns]\n",
    "\n",
    "row_sums = soil_df.sum(axis=1)\n",
    "\n",
    "non_exclusive_count = (row_sums > 1).sum()\n",
    "\n",
    "print(non_exclusive_count)"
   ]
  },
  {
   "cell_type": "markdown",
   "id": "e9d98926",
   "metadata": {},
   "source": [
    "`Soil_Type1` needed to be converted from categorical to numerical in order to use SMOTE and Tomek links to reduce target imbalance. The sanity check confirms that the `Soil_Typex` rows are all mutually exclusive and no observations have more than one of these columns with a value of *1*. "
   ]
  },
  {
   "cell_type": "markdown",
   "id": "69228eff",
   "metadata": {},
   "source": [
    "## Classification Tree Preprocessing"
   ]
  },
  {
   "cell_type": "code",
   "execution_count": null,
   "id": "f692a5cc",
   "metadata": {},
   "outputs": [],
   "source": [
    "from imblearn.over_sampling import SMOTE\n",
    "\n",
    "tree_resampler = SMOTE(random_state=42)\n",
    "\n",
    "X_train_tree, y_train_tree = tree_resampler.fit_resample(X_train, y_train)"
   ]
  },
  {
   "cell_type": "code",
   "execution_count": null,
   "id": "c7e66991",
   "metadata": {},
   "outputs": [],
   "source": [
    "X_test_tree = X_test.copy() # Unbiased real world test data\n",
    "y_test_tree = y_test.copy()"
   ]
  },
  {
   "cell_type": "markdown",
   "id": "b1873cbe",
   "metadata": {},
   "source": [
    "## k-NN Preprocessing"
   ]
  },
  {
   "cell_type": "code",
   "execution_count": 7,
   "id": "6c58aabe",
   "metadata": {},
   "outputs": [
    {
     "name": "stdout",
     "output_type": "stream",
     "text": [
      "0.99999805373707\n"
     ]
    }
   ],
   "source": [
    "corr = df['Facet'].corr(df['Aspect'])\n",
    "\n",
    "print(corr)"
   ]
  },
  {
   "cell_type": "code",
   "execution_count": null,
   "id": "3c90f65f",
   "metadata": {},
   "outputs": [
    {
     "name": "stdout",
     "output_type": "stream",
     "text": [
      "0.01707189190902871\n",
      "0.017068499402923768\n"
     ]
    }
   ],
   "source": [
    "corr = df['Facet'].corr(df['Cover_Type'])\n",
    "print(corr)\n",
    "\n",
    "corr = df['Aspect'].corr(df['Cover_Type'])\n",
    "print(corr)"
   ]
  },
  {
   "cell_type": "code",
   "execution_count": null,
   "id": "4df01d8a",
   "metadata": {},
   "outputs": [],
   "source": [
    "X_train_knn = X_train.copy()\n",
    "y_train_knn = y_train.copy()"
   ]
  },
  {
   "cell_type": "code",
   "execution_count": null,
   "id": "dd93a442",
   "metadata": {},
   "outputs": [],
   "source": [
    "X_test_knn = X_test.copy() # Unbiased real world test data\n",
    "y_test_knn = y_test.copy()"
   ]
  },
  {
   "cell_type": "code",
   "execution_count": null,
   "id": "cf601b36",
   "metadata": {},
   "outputs": [],
   "source": [
    "X_train_knn.drop(columns=['Aspect', 'Inclination'], inplace=True)\n",
    "X_test_knn.drop(columns=['Aspect', 'Inclination'], inplace=True)"
   ]
  },
  {
   "cell_type": "code",
   "execution_count": null,
   "id": "4a9bd7af",
   "metadata": {},
   "outputs": [],
   "source": [
    "from sklearn.preprocessing import RobustScaler\n",
    "\n",
    "# RobustScaler uses statistics resilient to outliers to scale data\n",
    "scaler = RobustScaler()\n",
    "\n",
    "X_train_knn = scaler.fit_transform(X_train_knn)\n",
    "X_test_knn= scaler.transform(X_test_knn)"
   ]
  },
  {
   "cell_type": "code",
   "execution_count": null,
   "id": "330cca49",
   "metadata": {},
   "outputs": [],
   "source": [
    "knn_resampler = SMOTE(random_state=42)\n",
    "\n",
    "X_train_knn, y_train_knn = knn_resampler.fit_resample(X_train_knn, y_train_knn)"
   ]
  }
 ],
 "metadata": {
  "kernelspec": {
   "display_name": "env",
   "language": "python",
   "name": "python3"
  },
  "language_info": {
   "codemirror_mode": {
    "name": "ipython",
    "version": 3
   },
   "file_extension": ".py",
   "mimetype": "text/x-python",
   "name": "python",
   "nbconvert_exporter": "python",
   "pygments_lexer": "ipython3",
   "version": "3.12.3"
  }
 },
 "nbformat": 4,
 "nbformat_minor": 5
}
